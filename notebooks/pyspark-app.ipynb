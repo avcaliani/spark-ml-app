{
  "nbformat": 4,
  "nbformat_minor": 0,
  "metadata": {
    "colab": {
      "name": "pyspark-app.ipynb",
      "provenance": [],
      "collapsed_sections": []
    },
    "kernelspec": {
      "name": "python3",
      "display_name": "Python 3"
    },
    "accelerator": "GPU"
  },
  "cells": [
    {
      "cell_type": "markdown",
      "metadata": {
        "id": "RMLy2ykZ1Tyu",
        "colab_type": "text"
      },
      "source": [
        "# 💫 PySpark App\n",
        "\n",
        "This is my Apache Spark project. Here you will find some stuff that I've done while I was learning about working with Spark and Python.\n",
        "\n",
        "---\n",
        "\n",
        "_You can find [@avcaliani](#) at [GitHub](https://github.com/avcaliani) or [GitLab](https://gitlab.com/avcaliani)._"
      ]
    },
    {
      "cell_type": "code",
      "metadata": {
        "id": "mBLPZK6VhlwG",
        "colab_type": "code",
        "outputId": "033d1ab7-be8b-4dec-d7f3-663b9c83a6d6",
        "colab": {
          "base_uri": "https://localhost:8080/",
          "height": 34
        }
      },
      "source": [
        "#  ___                _   \n",
        "# / __|_ __  __ _ _ _| |__\n",
        "# \\__ \\ '_ \\/ _` | '_| / /\n",
        "# |___/ .__/\\__,_|_| |_\\_\\\n",
        "#     |_|                 \n",
        "#\n",
        "!apt-get install openjdk-8-jdk-headless -qq > /dev/null\n",
        "!wget -q https://www-us.apache.org/dist/spark/spark-2.4.5/spark-2.4.5-bin-hadoop2.7.tgz\n",
        "!tar xf spark-2.4.5-bin-hadoop2.7.tgz\n",
        "!pip install -q findspark\n",
        "!python -V\n",
        "\n",
        "import os\n",
        "import findspark\n",
        "\n",
        "os.environ['JAVA_HOME'] = '/usr/lib/jvm/java-8-openjdk-amd64'\n",
        "os.environ['SPARK_HOME'] = '/content/spark-2.4.5-bin-hadoop2.7'\n",
        "findspark.init()\n",
        "\n",
        "from pyspark.sql import SparkSession\n",
        "\n",
        "spark = SparkSession \\\n",
        "  .builder\\\n",
        "  .master('local[*]') \\\n",
        "  .getOrCreate()"
      ],
      "execution_count": 2,
      "outputs": [
        {
          "output_type": "stream",
          "text": [
            "Python 3.6.9\n"
          ],
          "name": "stdout"
        }
      ]
    },
    {
      "cell_type": "code",
      "metadata": {
        "id": "03TJY9szmosT",
        "colab_type": "code",
        "colab": {}
      },
      "source": [
        "#                      _     \n",
        "#  __ _ ___  ___  __ _| |___ \n",
        "# / _` / _ \\/ _ \\/ _` | / -_)\n",
        "# \\__, \\___/\\___/\\__, |_\\___|\n",
        "# |___/          |___/       \n",
        "#\n",
        "from google.colab import files\n",
        "files.upload() # data/yob1997.csv"
      ],
      "execution_count": 0,
      "outputs": []
    },
    {
      "cell_type": "code",
      "metadata": {
        "id": "0jiwgVogpU1x",
        "colab_type": "code",
        "colab": {}
      },
      "source": [
        "from pyspark.sql import DataFrame, Column\n",
        "from pyspark.sql.functions import col, when, udf"
      ],
      "execution_count": 0,
      "outputs": []
    },
    {
      "cell_type": "code",
      "metadata": {
        "id": "DqKn-2vNpBQs",
        "colab_type": "code",
        "colab": {}
      },
      "source": [
        "# __   __    _ _    _      _           \n",
        "# \\ \\ / /_ _| (_)__| |__ _| |_ ___ _ _ \n",
        "#  \\ V / _` | | / _` / _` |  _/ _ \\ '_|\n",
        "#   \\_/\\__,_|_|_\\__,_\\__,_|\\__\\___/_|  \n",
        "\n",
        "\n",
        "def validate(data: DataFrame) -> DataFrame:\n",
        "  return data \\\n",
        "    .withColumn('gender_valid', check_gender(data.gender)) \\\n",
        "    .withColumn('number_valid', check_number(data.number)) \\\n",
        "    .withColumn('is_valid'    , is_record_valid(col('gender_valid'), col('number_valid'))) \\\n",
        "    .drop('gender_valid', 'number_valid')\n",
        "\n",
        "\n",
        "def check_gender(gender: Column) -> Column:\n",
        "  return when((gender == \"F\") | (gender == \"M\"), True) \\\n",
        "    .otherwise(False) \\\n",
        "    .cast(\"boolean\")\n",
        "\n",
        "\n",
        "@udf('boolean')\n",
        "def check_number(number: str) -> bool:\n",
        "  return number is not None and number.isdigit() and int(number) >= 20000\n",
        "\n",
        "\n",
        "def is_record_valid(gender_valid: Column, number_valid: Column) -> Column:\n",
        "  return when(gender_valid & number_valid, True) \\\n",
        "    .otherwise(False) \\\n",
        "    .cast(\"boolean\")\n"
      ],
      "execution_count": 0,
      "outputs": []
    },
    {
      "cell_type": "code",
      "metadata": {
        "id": "RzK0lmLWluBa",
        "colab_type": "code",
        "outputId": "ac740dae-856f-44a0-ad46-2b3a48bfb43c",
        "colab": {
          "base_uri": "https://localhost:8080/",
          "height": 425
        }
      },
      "source": [
        "#  __  __      _      \n",
        "# |  \\/  |__ _(_)_ _  \n",
        "# | |\\/| / _` | | ' \\ \n",
        "# |_|  |_\\__,_|_|_||_|\n",
        "#\n",
        "data: DataFrame = spark \\\n",
        "  .read \\\n",
        "  .option('header', 'true') \\\n",
        "  .csv('yob1997.csv')\n",
        "\n",
        "print(f\"\"\"\n",
        " ___             \n",
        "| _ \\__ ___ __ __\n",
        "|   / _` \\ V  V /\n",
        "|_|_\\__,_|\\_/\\_/ \n",
        "\n",
        "Input Records: {data.count()}\n",
        "\"\"\")\n",
        "data.printSchema()\n",
        "data.show(5)"
      ],
      "execution_count": 6,
      "outputs": [
        {
          "output_type": "stream",
          "text": [
            "\n",
            " ___             \n",
            "| _ \\__ ___ __ __\n",
            "|   / _` \\ V  V /\n",
            "|_|_\\__,_|\\_/\\_/ \n",
            "\n",
            "Input Records: 26970\n",
            "\n",
            "root\n",
            " |-- name: string (nullable = true)\n",
            " |-- gender: string (nullable = true)\n",
            " |-- number: string (nullable = true)\n",
            "\n",
            "+-------+------+------+\n",
            "|   name|gender|number|\n",
            "+-------+------+------+\n",
            "|  Emily|     F| 25732|\n",
            "|Jessica|     F| 21042|\n",
            "| Ashley|     F| 20896|\n",
            "|  Sarah|     F| 20707|\n",
            "| Hannah|     F| 20593|\n",
            "+-------+------+------+\n",
            "only showing top 5 rows\n",
            "\n"
          ],
          "name": "stdout"
        }
      ]
    },
    {
      "cell_type": "code",
      "metadata": {
        "id": "aPu6bA5q6VYj",
        "colab_type": "code",
        "outputId": "3d38d123-8848-4bb3-85ab-2f3fa709a8e7",
        "colab": {
          "base_uri": "https://localhost:8080/",
          "height": 544
        }
      },
      "source": [
        "#  _   _   _ \n",
        "# (_) (_) (_)\n",
        "#\n",
        "valid_data = validate(data) \\\n",
        "  .filter(col('is_valid') == True) \\\n",
        "  .drop('is_valid') \\\n",
        "  .orderBy(col('number').desc())\n",
        "\n",
        "print(f\"\"\"\n",
        "__   __    _ _    _ \n",
        "\\ \\ / /_ _| (_)__| |\n",
        " \\ V / _` | | / _` |\n",
        "  \\_/\\__,_|_|_\\__,_|\n",
        "\n",
        "Valid Records: {valid_data.count()}\n",
        "\"\"\")\n",
        "valid_data.printSchema()\n",
        "valid_data.show(5)\n",
        "valid_data.groupBy('gender').count().show()"
      ],
      "execution_count": 7,
      "outputs": [
        {
          "output_type": "stream",
          "text": [
            "\n",
            "__   __    _ _    _ \n",
            "\\ \\ / /_ _| (_)__| |\n",
            " \\ V / _` | | / _` |\n",
            "  \\_/\\__,_|_|_\\__,_|\n",
            "\n",
            "Valid Records: 25\n",
            "\n",
            "root\n",
            " |-- name: string (nullable = true)\n",
            " |-- gender: string (nullable = true)\n",
            " |-- number: string (nullable = true)\n",
            "\n",
            "+-----------+------+------+\n",
            "|       name|gender|number|\n",
            "+-----------+------+------+\n",
            "|    Michael|     M| 37549|\n",
            "|      Jacob|     M| 34153|\n",
            "|    Matthew|     M| 31514|\n",
            "|Christopher|     M| 29105|\n",
            "|     Joshua|     M| 28284|\n",
            "+-----------+------+------+\n",
            "only showing top 5 rows\n",
            "\n",
            "+------+-----+\n",
            "|gender|count|\n",
            "+------+-----+\n",
            "|     F|    6|\n",
            "|     M|   19|\n",
            "+------+-----+\n",
            "\n"
          ],
          "name": "stdout"
        }
      ]
    },
    {
      "cell_type": "code",
      "metadata": {
        "id": "m5oyXuj_2_30",
        "colab_type": "code",
        "colab": {}
      },
      "source": [
        "#  ______    ___               \n",
        "# | |__| |  / __| __ ___ _____ \n",
        "# |  ()  |  \\__ \\/ _` \\ V / -_)\n",
        "# |______|  |___/\\__,_|\\_/\\___|\n",
        "#\n",
        "valid_data\\\n",
        "  .write \\\n",
        "  .mode('overwrite') \\\n",
        "  .option(\"header\", \"true\") \\\n",
        "  .option(\"delimiter\", ',') \\\n",
        "  .option(\"nullValue\", None) \\\n",
        "  .option(\"emptyValue\", None) \\\n",
        "  .csv('yob1997.valid.csv')\n",
        "\n",
        "#                      _     \n",
        "#  __ _ ___  ___  __ _| |___ \n",
        "# / _` / _ \\/ _ \\/ _` | / -_)\n",
        "# \\__, \\___/\\___/\\__, |_\\___|\n",
        "# |___/          |___/       \n",
        "#\n",
        "!rm output.zip\n",
        "!zip -r output.zip yob1997.valid.csv\n",
        "files.download('output.zip') "
      ],
      "execution_count": 0,
      "outputs": []
    }
  ]
}